{
 "cells": [
  {
   "cell_type": "code",
   "execution_count": null,
   "metadata": {},
   "outputs": [],
   "source": [
    "from tqdm.notebook import tqdm\n",
    "\n",
    "from oumi.builders import build_tokenizer\n",
    "from oumi.core.configs import ModelParams\n",
    "from oumi.datasets.vision_language.cauldron import CauldronDataset\n",
    "\n",
    "model_name = \"meta-llama/Llama-3.2-11B-Vision-Instruct\"\n",
    "tokenizer = build_tokenizer(ModelParams(model_name=model_name))"
   ]
  },
  {
   "cell_type": "code",
   "execution_count": 3,
   "metadata": {},
   "outputs": [],
   "source": [
    "all_possible_subsets = [\n",
    "    \"ai2d\",\n",
    "    \"aokvqa\",\n",
    "    \"chart2text\",\n",
    "    \"chartqa\",\n",
    "    \"clevr\",\n",
    "    \"clevr_math\",\n",
    "    \"cocoqa\",\n",
    "    \"datikz\",\n",
    "    \"diagram_image_to_text\",\n",
    "    \"docvqa\",\n",
    "    \"dvqa\",\n",
    "    \"figureqa\",\n",
    "    \"finqa\",\n",
    "    \"geomverse\",\n",
    "    \"hateful_memes\",\n",
    "    \"hitab\",\n",
    "    \"iam\",\n",
    "    \"iconqa\",\n",
    "    \"infographic_vqa\",\n",
    "    \"intergps\",\n",
    "    \"localized_narratives\",\n",
    "    \"mapqa\",\n",
    "    \"mimic_cgd\",\n",
    "    \"multihiertt\",\n",
    "    \"nlvr2\",\n",
    "    \"ocrvqa\",\n",
    "    \"okvqa\",\n",
    "    \"plotqa\",\n",
    "    \"raven\",\n",
    "    \"rendered_text\",\n",
    "    \"robut_sqa\",\n",
    "    \"robut_wikisql\",\n",
    "    \"robut_wtq\",\n",
    "    \"scienceqa\",\n",
    "    \"screen2words\",\n",
    "    \"spot_the_diff\",\n",
    "    \"st_vqa\",\n",
    "    \"tabmwp\",\n",
    "    \"tallyqa\",\n",
    "    \"tat_qa\",\n",
    "    \"textcaps\",\n",
    "    \"textvqa\",\n",
    "    \"tqa\",\n",
    "    \"vistext\",\n",
    "    \"visual7w\",\n",
    "    \"visualmrc\",\n",
    "    \"vqarad\",\n",
    "    \"vqav2\",\n",
    "    \"vsr\",\n",
    "    \"websight\",\n",
    "]"
   ]
  },
  {
   "cell_type": "code",
   "execution_count": 4,
   "metadata": {},
   "outputs": [],
   "source": [
    "# subsets_to_test = all_possible_subsets # More expensive\n",
    "\n",
    "subsets_to_test = [\n",
    "    \"geomverse\",\n",
    "    \"tat_qa\",\n",
    "    \"diagram_image_to_text\",\n",
    "    \"tqa\",\n",
    "    \"spot_the_diff\",\n",
    "]\n",
    "\n",
    "subsets_to_test = [\"geomverse\"]"
   ]
  },
  {
   "cell_type": "code",
   "execution_count": 5,
   "metadata": {},
   "outputs": [
    {
     "name": "stdout",
     "output_type": "stream",
     "text": [
      "[2025-02-03 19:25:03,055][oumi][rank0][pid:76299][MainThread][INFO]][base_map_dataset.py:82] Creating map dataset (type: CauldronDataset) dataset_name: 'None', dataset_path: 'None'...\n",
      "[2025-02-03 19:25:05,359][oumi][rank0][pid:76299][MainThread][INFO]][base_map_dataset.py:486] Dataset Info:\n",
      "\tSplit: train\n",
      "\tVersion: 0.0.0\n",
      "\tDataset size: 959091917\n",
      "\tDownload size: 323746516\n",
      "\tSize: 1282838433 bytes\n",
      "\tRows: 9303\n",
      "\tColumns: ['images', 'texts']\n",
      "[2025-02-03 19:25:05,684][oumi][rank0][pid:76299][MainThread][INFO]][base_map_dataset.py:425] Loaded DataFrame with shape: (9303, 2). Columns:\n",
      "images    object\n",
      "texts     object\n",
      "dtype: object\n",
      "Number of examples in subset geomverse: 9303\n",
      "\n",
      "\n",
      "                                              images  \\\n",
      "0  [{'bytes': b'\\xff\\xd8\\xff\\xe0\\x00\\x10JFIF\\x00\\...   \n",
      "1  [{'bytes': b'\\xff\\xd8\\xff\\xe0\\x00\\x10JFIF\\x00\\...   \n",
      "2  [{'bytes': b'\\xff\\xd8\\xff\\xe0\\x00\\x10JFIF\\x00\\...   \n",
      "3  [{'bytes': b'\\xff\\xd8\\xff\\xe0\\x00\\x10JFIF\\x00\\...   \n",
      "4  [{'bytes': b'\\xff\\xd8\\xff\\xe0\\x00\\x10JFIF\\x00\\...   \n",
      "\n",
      "                                               texts  \n",
      "0  [{'user': 'If the arc length of the ABC sector...  \n",
      "1  [{'user': 'If the length of the AB side is 9, ...  \n",
      "2  [{'user': 'If the ABCDE shape is a combination...  \n",
      "3  [{'user': 'If the length of the AC side is $5x...  \n",
      "4  [{'user': 'If the ABCD shape is a combination ...  \n",
      "Average token length for user messages: 50.75\n",
      "Average token length for assistant messages:127.26\n"
     ]
    },
    {
     "data": {
      "application/vnd.jupyter.widget-view+json": {
       "model_id": "32337a9110874380a76a352834f1dfc2",
       "version_major": 2,
       "version_minor": 0
      },
      "text/plain": [
       "  0%|          | 0/9303 [00:00<?, ?it/s]"
      ]
     },
     "metadata": {},
     "output_type": "display_data"
    },
    {
     "name": "stdout",
     "output_type": "stream",
     "text": [
      "Example 0:\n"
     ]
    },
    {
     "data": {
      "image/jpeg": "[encoded data removed]",
      "image/png": "[encoded data removed]",
      "text/plain": [
       "<PIL.Image.Image image mode=RGB size=256x256>"
      ]
     },
     "metadata": {},
     "output_type": "display_data"
    },
    {
     "name": "stdout",
     "output_type": "stream",
     "text": [
      "user: [<IMAGE_BINARY>, If the arc length of the ABC sector is 12.85, the area of the BDEF parallelogram is 108, the BFGH shape is a combination of a rectangle and a semi-circle, the length of the FG side is 6, the perimeter of the BFGH shape is 48, the area of the BJKD square is 121 and the angle DBF is vertical to CBA, compute the length of the BC side of the ABC sector. Assume $\\pi=3.14$. Round computations to 2 decimal places.]\n",
      "assistant: [The perimeter of the BFGH shape is 48 and the length of the FG side is 6, so $2 * OtherSide + 6 + \\frac{6 * 3.14}{2} = 48$. So $2 * OtherSide = 48 - 6 - \\frac{6 * 3.14}{2} = 48 - 6 - \\frac{18.84}{2} = 48 - 6 - 9.42 = 32.58$. Therefore, the length of the BF side is $\\frac{32.58}{2} = 16.29$. The area of the BJKD square is 121, so the length of the BD side is $\\sqrt{121} = 11$. The lengths of the BF and the BD sides of the BDEF parallelogram are 16.29 and 11 and the area is 108 so the sine of the DBF angle is $\\frac{108}{16.29 * 11} = 0.6$ and so the angle in degrees is $\\arcsin(0.6) = 36.87$. The angle CBA is vertical to the angle DBF so the degree of the CBA angle = 36.87. The CBA angle of the ABC sector is 36.87 and the arc length is 12.85 so the BC radius can be computed as $\\frac{12.85}{\\frac{36.87}{360} * (2 * \\pi)} = \\frac{12.85}{0.1 * (2 * \\pi)} = \\frac{12.85}{0.63}= 20.4$. Therefore the final answer is 20.4.]\n",
      "\n",
      "\n",
      "Example 1:\n"
     ]
    },
    {
     "data": {
      "image/jpeg": "[encoded data removed]",
      "image/png": "[encoded data removed]",
      "text/plain": [
       "<PIL.Image.Image image mode=RGB size=256x256>"
      ]
     },
     "metadata": {},
     "output_type": "display_data"
    },
    {
     "name": "stdout",
     "output_type": "stream",
     "text": [
      "user: [<IMAGE_BINARY>, If the length of the AB side is 9, the length of the AC side is 16, the length of the AF side is 11, the area of the ADEF parallelogram is 78, the area of the AGHD square is 81 and the angle CAB is vertical to FAD, compute the length of the BC side of the ABC triangle. Round computations to 2 decimal places.]\n",
      "assistant: [The area of the AGHD square is 81, so the length of the AD side is $\\sqrt{81} = 9$. The lengths of the AF and the AD sides of the ADEF parallelogram are 11 and 9 and the area is 78 so the sine of the FAD angle is $\\frac{78}{11 * 9} = 0.79$ and so the angle in degrees is $\\arcsin(0.79) = 52.19$. The angle CAB is vertical to the angle FAD so the degree of the CAB angle = 52.19. For the ABC triangle, the lengths of the AB and AC sides are 9 and 16 and the degree of the angle between them is 52.19. Therefore, the length of the BC side is equal to $\\sqrt{9^2 + 16^2 - (2 * 9 * 16) * \\cos(52.19)} = \\sqrt{81 + 256 - 288 * (0.61)} = \\sqrt{337 - (175.68)} = \\sqrt{161.32} = 12.7$. Therefore the final answer is 12.7.]\n",
      "\n",
      "\n"
     ]
    },
    {
     "ename": "KeyboardInterrupt",
     "evalue": "",
     "output_type": "error",
     "traceback": [
      "\u001b[0;31m---------------------------------------------------------------------------\u001b[0m",
      "\u001b[0;31mKeyboardInterrupt\u001b[0m                         Traceback (most recent call last)",
      "Cell \u001b[0;32mIn[5], line 47\u001b[0m\n\u001b[1;32m     42\u001b[0m img_content \u001b[38;5;241m=\u001b[39m message\u001b[38;5;241m.\u001b[39mcontent[\u001b[38;5;241m0\u001b[39m]\n\u001b[1;32m     43\u001b[0m \u001b[38;5;28;01massert\u001b[39;00m (\n\u001b[1;32m     44\u001b[0m     img_content\u001b[38;5;241m.\u001b[39mtype \u001b[38;5;241m==\u001b[39m Type\u001b[38;5;241m.\u001b[39mIMAGE_BINARY\n\u001b[1;32m     45\u001b[0m ), \u001b[38;5;124m\"\u001b[39m\u001b[38;5;124mOumi encodes image content in binary for VQA-Small.\u001b[39m\u001b[38;5;124m\"\u001b[39m\n\u001b[0;32m---> 47\u001b[0m image \u001b[38;5;241m=\u001b[39m \u001b[43mImage\u001b[49m\u001b[38;5;241;43m.\u001b[39;49m\u001b[43mopen\u001b[49m\u001b[43m(\u001b[49m\u001b[43mio\u001b[49m\u001b[38;5;241;43m.\u001b[39;49m\u001b[43mBytesIO\u001b[49m\u001b[43m(\u001b[49m\u001b[43mimg_content\u001b[49m\u001b[38;5;241;43m.\u001b[39;49m\u001b[43mbinary\u001b[49m\u001b[43m)\u001b[49m\u001b[43m)\u001b[49m\u001b[38;5;241;43m.\u001b[39;49m\u001b[43mresize\u001b[49m\u001b[43m(\u001b[49m\u001b[43m(\u001b[49m\u001b[38;5;241;43m256\u001b[39;49m\u001b[43m,\u001b[49m\u001b[43m \u001b[49m\u001b[38;5;241;43m256\u001b[39;49m\u001b[43m)\u001b[49m\u001b[43m)\u001b[49m\n\u001b[1;32m     48\u001b[0m \u001b[38;5;28;01mif\u001b[39;00m i \u001b[38;5;241m<\u001b[39m \u001b[38;5;241m2\u001b[39m:\n\u001b[1;32m     49\u001b[0m     display(image)\n",
      "File \u001b[0;32m~/miniconda3/envs/oumi/lib/python3.11/site-packages/PIL/Image.py:2185\u001b[0m, in \u001b[0;36mImage.resize\u001b[0;34m(self, size, resample, box, reducing_gap)\u001b[0m\n\u001b[1;32m   2181\u001b[0m     \u001b[38;5;28;01mraise\u001b[39;00m \u001b[38;5;167;01mValueError\u001b[39;00m(msg)\n\u001b[1;32m   2183\u001b[0m size \u001b[38;5;241m=\u001b[39m \u001b[38;5;28mtuple\u001b[39m(size)\n\u001b[0;32m-> 2185\u001b[0m \u001b[38;5;28;43mself\u001b[39;49m\u001b[38;5;241;43m.\u001b[39;49m\u001b[43mload\u001b[49m\u001b[43m(\u001b[49m\u001b[43m)\u001b[49m\n\u001b[1;32m   2186\u001b[0m \u001b[38;5;28;01mif\u001b[39;00m box \u001b[38;5;129;01mis\u001b[39;00m \u001b[38;5;28;01mNone\u001b[39;00m:\n\u001b[1;32m   2187\u001b[0m     box \u001b[38;5;241m=\u001b[39m (\u001b[38;5;241m0\u001b[39m, \u001b[38;5;241m0\u001b[39m) \u001b[38;5;241m+\u001b[39m \u001b[38;5;28mself\u001b[39m\u001b[38;5;241m.\u001b[39msize\n",
      "File \u001b[0;32m~/miniconda3/envs/oumi/lib/python3.11/site-packages/PIL/ImageFile.py:291\u001b[0m, in \u001b[0;36mImageFile.load\u001b[0;34m(self)\u001b[0m\n\u001b[1;32m    288\u001b[0m         \u001b[38;5;28;01mraise\u001b[39;00m \u001b[38;5;167;01mOSError\u001b[39;00m(msg)\n\u001b[1;32m    290\u001b[0m b \u001b[38;5;241m=\u001b[39m b \u001b[38;5;241m+\u001b[39m s\n\u001b[0;32m--> 291\u001b[0m n, err_code \u001b[38;5;241m=\u001b[39m \u001b[43mdecoder\u001b[49m\u001b[38;5;241;43m.\u001b[39;49m\u001b[43mdecode\u001b[49m\u001b[43m(\u001b[49m\u001b[43mb\u001b[49m\u001b[43m)\u001b[49m\n\u001b[1;32m    292\u001b[0m \u001b[38;5;28;01mif\u001b[39;00m n \u001b[38;5;241m<\u001b[39m \u001b[38;5;241m0\u001b[39m:\n\u001b[1;32m    293\u001b[0m     \u001b[38;5;28;01mbreak\u001b[39;00m\n",
      "\u001b[0;31mKeyboardInterrupt\u001b[0m: "
     ]
    }
   ],
   "source": [
    "import io\n",
    "\n",
    "from PIL import Image\n",
    "\n",
    "from oumi.core.types.conversation import Type\n",
    "\n",
    "for subset in subsets_to_test:\n",
    "    dataset = CauldronDataset(\n",
    "        tokenizer=tokenizer,\n",
    "        processor_name=model_name,\n",
    "        subset=subset,\n",
    "    )\n",
    "\n",
    "    # Print basic information about the dataset\n",
    "    num_examples_to_test = len(dataset)\n",
    "    print(f\"Number of examples in subset {subset}: {num_examples_to_test}\\n\")\n",
    "    print(dataset.data.head(), \"\\n\")\n",
    "\n",
    "    proxy_token_len_user = dataset.data.texts.apply(\n",
    "        lambda x: len(x[0][\"user\"].split())\n",
    "    ).mean()\n",
    "\n",
    "    proxy_token_len_assistant = dataset.data.texts.apply(\n",
    "        lambda x: len(x[0][\"assistant\"].split())\n",
    "    ).mean()\n",
    "\n",
    "    print(f\"Average token length for user messages: {proxy_token_len_user:.2f}\")\n",
    "    print(\n",
    "        \"Average token length for assistant messages:\"\n",
    "        f\"{proxy_token_len_assistant:.2f}\"\n",
    "    )\n",
    "\n",
    "    for i in tqdm(range(num_examples_to_test)):\n",
    "        try:\n",
    "            # Retrieve the i-th example (conversation)\n",
    "            conversation = dataset.conversation(i)\n",
    "\n",
    "            if i < 2:\n",
    "                print(f\"Example {i}:\")\n",
    "\n",
    "            for message in conversation.messages:\n",
    "                # The `user` poses a question, regarding an image\n",
    "                if message.role == \"user\":\n",
    "                    img_content = message.content[0]\n",
    "                    assert (\n",
    "                        img_content.type == Type.IMAGE_BINARY\n",
    "                    ), \"Oumi encodes image content in binary for VQA-Small.\"\n",
    "\n",
    "                    image = Image.open(io.BytesIO(img_content.binary)).resize(\n",
    "                        (256, 256)\n",
    "                    )\n",
    "                    if i < 2:\n",
    "                        display(image)\n",
    "                if i < 2:\n",
    "                    print(f\"{message.role}: {message.content}\")\n",
    "            if i < 2:\n",
    "                print(\"\\n\")\n",
    "        except Exception as e:\n",
    "            print(f\"Failed to load example {i} of subset {subset}: {e}\")"
   ]
  }
 ],
 "metadata": {
  "kernelspec": {
   "display_name": "oumi",
   "language": "python",
   "name": "python3"
  },
  "language_info": {
   "codemirror_mode": {
    "name": "ipython",
    "version": 3
   },
   "file_extension": ".py",
   "mimetype": "text/x-python",
   "name": "python",
   "nbconvert_exporter": "python",
   "pygments_lexer": "ipython3",
   "version": "3.11.11"
  }
 },
 "nbformat": 4,
 "nbformat_minor": 2
}
